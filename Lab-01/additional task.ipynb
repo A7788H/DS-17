{
 "cells":[
  {
   "cell_type":"markdown",
   "source":[
    "Here is the sample mean:\n",
    " $$\n",
    " {\\bar{y}} = {\\frac{1}{n}}{\\sum\\limits_{i=1}^n}{y_i}$$\n",
    "        \n",
    "Here is the sample variance:\n",
    "$$ \n",
    "   \\sigma^2  =  {{\\sum\\limits_{i=1}^n}{(y_i-{\\bar{y}})^2}\\over{n-1}}\n",
    "        $$\n",
    "\n",
    "Here is the sample standart deviation:\n",
    "$$\n",
    "    \\sigma = {\\sqrt{{\\sum\\limits_{i=1}^n}{(y_i-{\\bar{y}})^2}\\over{n-1}}}\n",
    "        $$"
   ],
   "attachments":{
    
   },
   "metadata":{
    "datalore":{
     "node_id":"GV6XWLQB3Ri8Ju7oA7O9Xo",
     "type":"MD",
     "hide_input_from_viewers":false,
     "hide_output_from_viewers":false
    }
   }
  },
  {
   "cell_type":"code",
   "source":[
    
   ],
   "execution_count":null,
   "outputs":[
    
   ],
   "metadata":{
    "datalore":{
     "node_id":"WdypuvO0cLOLZM8PEp2wBh",
     "type":"CODE",
     "hide_input_from_viewers":false,
     "hide_output_from_viewers":false
    }
   }
  }
 ],
 "metadata":{
  "kernelspec":{
   "display_name":"Python",
   "language":"python",
   "name":"python"
  },
  "datalore":{
   "version":1,
   "computation_mode":"JUPYTER",
   "package_manager":"pip",
   "base_environment":"default",
   "packages":[
    
   ]
  }
 },
 "nbformat":4,
 "nbformat_minor":4
}