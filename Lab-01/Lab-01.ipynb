{
 "cells":[
  {
   "cell_type":"markdown",
   "source":[
    "## 1. Markdown cells ##\n",
    "\n",
    "* Hi! its Maine Academy?\n",
    "* All HTML tabs are supported!\n",
    "* Моя сторінка на [Linkedln](https:\/\/www.linkedin.com\/in\/antony-ganus\/)\n",
    "\n",
    "# This is Heading1 #\n",
    "\n",
    "## This is Heading2 ##\n",
    "\n",
    "<span style =\"color:grey\">This is where we can bring qoutes and present them nicely<\/span>\n",
    "\n",
    "Math:  \n",
    "        \n",
    "$$y_{sub}={\\sqrt({x_{sub}})}$$\n",
    "\n",
    "        \n",
    "Or python code exampel\n",
    "\n",
    "```\n",
    "import this\n",
    " def foo()\n",
    "    return \"foo\n",
    "```"
   ],
   "attachments":{
    
   },
   "metadata":{
    "datalore":{
     "node_id":"PYbjl8r5DS4X3HXEDPUUCB",
     "type":"MD",
     "hide_input_from_viewers":false,
     "hide_output_from_viewers":false
    }
   }
  },
  {
   "cell_type":"code",
   "source":[
    
   ],
   "execution_count":null,
   "outputs":[
    
   ],
   "metadata":{
    "datalore":{
     "node_id":"NHUJINWE89k0rOnjpUmImq",
     "type":"CODE",
     "hide_input_from_viewers":false,
     "hide_output_from_viewers":false
    }
   }
  }
 ],
 "metadata":{
  "kernelspec":{
   "display_name":"Python",
   "language":"python",
   "name":"python"
  },
  "datalore":{
   "version":1,
   "computation_mode":"JUPYTER",
   "package_manager":"pip",
   "base_environment":"default",
   "packages":[
    
   ]
  }
 },
 "nbformat":4,
 "nbformat_minor":4
}