{
 "cells":[
  {
   "cell_type":"markdown",
   "source":[
    "___\n",
    "\n",
    "<a href='https:\/\/mainacademy.ua\/'> <img src='https:\/\/mainacademy.ua\/wp-content\/uploads\/2019\/03\/logo-main.png' alt = 'Хмм, щось з інтернетом'\/><\/a>\n",
    "___\n",
    "\n",
    "# Module 2: Basic Python"
   ],
   "attachments":{
    
   },
   "metadata":{
    "datalore":{
     "node_id":"LriFO422euv0M8MqCNXd5c",
     "type":"MD",
     "hide_input_from_viewers":false,
     "hide_output_from_viewers":false,
     "report_properties":{
      
     }
    }
   }
  },
  {
   "cell_type":"markdown",
   "source":[
    "## Lab work 2.1\n"
   ],
   "attachments":{
    
   },
   "metadata":{
    "datalore":{
     "node_id":"XccAO6eUj5GawRfA1eTZVa",
     "type":"MD",
     "hide_input_from_viewers":false,
     "hide_output_from_viewers":false,
     "report_properties":{
      
     }
    }
   }
  },
  {
   "cell_type":"markdown",
   "source":[
    "#### Мета: \n",
    "\n",
    "* навчитися працювати із основними типами та структурами даних в Python;\n",
    "* ознайомитися із базовими алгоритмами;"
   ],
   "attachments":{
    
   },
   "metadata":{
    "datalore":{
     "node_id":"ZEHGYbIQ4yVdOWpkGHfjjg",
     "type":"MD",
     "hide_input_from_viewers":false,
     "hide_output_from_viewers":false,
     "report_properties":{
      
     }
    }
   }
  },
  {
   "cell_type":"markdown",
   "source":[
    "#### Завдання 1"
   ],
   "attachments":{
    
   },
   "metadata":{
    "datalore":{
     "node_id":"sLoWHw9op0dltbo4X6QgA0",
     "type":"MD",
     "hide_input_from_viewers":false,
     "hide_output_from_viewers":false,
     "report_properties":{
      
     }
    }
   }
  },
  {
   "cell_type":"markdown",
   "source":[
    "Обчислити площу трикутника, коли відома сторона та проведена висота до неї"
   ],
   "attachments":{
    
   },
   "metadata":{
    "datalore":{
     "node_id":"5V5qZ5vQRhqoCJpXNZM7EG",
     "type":"MD",
     "hide_input_from_viewers":false,
     "hide_output_from_viewers":false,
     "report_properties":{
      
     }
    }
   }
  },
  {
   "cell_type":"code",
   "source":[
    "a = int(input())\n",
    "h = int(input())\n",
    "s = 0.5\/(a*h)\n",
    "\n",
    "print(s)\n",
    "\n"
   ],
   "execution_count":1,
   "outputs":[
    {
     "name":"stdout",
     "text":[
      " 12\n",
      " 1\n",
      "0.041666666666666664\n"
     ],
     "output_type":"stream"
    }
   ],
   "metadata":{
    "datalore":{
     "node_id":"LirafWrP1sXUfvFaAvA6HX",
     "type":"CODE",
     "hide_input_from_viewers":false,
     "hide_output_from_viewers":false,
     "report_properties":{
      
     }
    }
   }
  },
  {
   "cell_type":"markdown",
   "source":[
    "#### Завдання 2"
   ],
   "attachments":{
    
   },
   "metadata":{
    "datalore":{
     "node_id":"Ro7KkuysF5WTKe1mbtdq3A",
     "type":"MD",
     "hide_input_from_viewers":false,
     "hide_output_from_viewers":false,
     "report_properties":{
      
     }
    }
   }
  },
  {
   "cell_type":"markdown",
   "source":[
    "Дано трицифрове число. Виведіть окремо кожну цифру числа та суми цифр число\n",
    "\n",
    "Реалізуйте завдання двома способами (використовуючи стрічки та оператори `%`, `\/\/`)"
   ],
   "attachments":{
    
   },
   "metadata":{
    "datalore":{
     "node_id":"D1mmCwRtiP5UaCiCNudeU9",
     "type":"MD",
     "hide_input_from_viewers":false,
     "hide_output_from_viewers":false,
     "report_properties":{
      
     }
    }
   }
  },
  {
   "cell_type":"code",
   "source":[
    "number = int(input())\n",
    "a = number % 10\n",
    "b = (number \/\/ 10) % 10\n",
    "c = number \/\/ 100\n",
    "print(a)\n",
    "print(b)\n",
    "print(c)\n",
    "\n",
    "sum=a+b+c \n",
    "print (\"сума\", sum)\n"
   ],
   "execution_count":16,
   "outputs":[
    {
     "name":"stdout",
     "text":[
      " 234\n",
      "4\n",
      "3\n",
      "2\n",
      "сума 9\n"
     ],
     "output_type":"stream"
    }
   ],
   "metadata":{
    "datalore":{
     "node_id":"4trLlrqKfr8qUUccjrCXFJ",
     "type":"CODE",
     "hide_input_from_viewers":false,
     "hide_output_from_viewers":false,
     "report_properties":{
      
     }
    }
   }
  },
  {
   "cell_type":"markdown",
   "source":[
    "#### Завдання 3"
   ],
   "attachments":{
    
   },
   "metadata":{
    "datalore":{
     "node_id":"virrkCB0J97WtBO86RHZrI",
     "type":"MD",
     "hide_input_from_viewers":false,
     "hide_output_from_viewers":false,
     "report_properties":{
      
     }
    }
   }
  },
  {
   "cell_type":"markdown",
   "source":[
    "Дано речення (стрічка). \n",
    "* Розбийте речення по словах і помістіть їх у список. \n",
    "* Виведіть кількість слів у речені.\n",
    "* Утворіть нове речення, що складається з першого та останнього слова із початкового речення."
   ],
   "attachments":{
    
   },
   "metadata":{
    "datalore":{
     "node_id":"uxHXgMKg3X35STraHpvRBZ",
     "type":"MD",
     "hide_input_from_viewers":false,
     "hide_output_from_viewers":false,
     "report_properties":{
      
     }
    }
   }
  },
  {
   "cell_type":"code",
   "source":[
    "sentence = 'My favourite tutor in academy is Ihor'\n",
    "words = sentence.split()\n",
    "num_words = len(words)\n",
    "print (num_words)\n",
    "\n",
    "words = sentence.split()\n",
    "new_sentens = words[0]+\" \" +words[-1]\n",
    "print (new_sentens)"
   ],
   "execution_count":2,
   "outputs":[
    {
     "name":"stdout",
     "text":[
      "7\n",
      "My Ihor\n"
     ],
     "output_type":"stream"
    }
   ],
   "metadata":{
    "datalore":{
     "node_id":"27bYXG5yo3bYCcuvNcWmX0",
     "type":"CODE",
     "hide_input_from_viewers":false,
     "hide_output_from_viewers":false,
     "report_properties":{
      
     }
    }
   }
  },
  {
   "cell_type":"markdown",
   "source":[
    "#### Завдання 4"
   ],
   "attachments":{
    
   },
   "metadata":{
    "datalore":{
     "node_id":"x7R7LpvJ5rFCEzcuN87wfD",
     "type":"MD",
     "hide_input_from_viewers":false,
     "hide_output_from_viewers":false,
     "report_properties":{
      
     }
    }
   }
  },
  {
   "cell_type":"markdown",
   "source":[
    "Перевірте, чи справджується формула: $$ sin^2x + cos^2x = 1$$\n",
    "\n",
    "Напишіть код, що реалізує цю формулу. Нагадую, що тригонометричні функції приймають аргументи в радіанній мірі"
   ],
   "attachments":{
    
   },
   "metadata":{
    "datalore":{
     "node_id":"DVSkRaBSV2mCiZqVl4iNEP",
     "type":"MD",
     "hide_input_from_viewers":true,
     "hide_output_from_viewers":true
    }
   }
  },
  {
   "cell_type":"code",
   "source":[
    "import math \n",
    "\n",
    "x = int(input())\n",
    "x= math.pi\/4\n",
    "result = math.sin(x)**2+math.cos(x)**2\n",
    "print(result)"
   ],
   "execution_count":18,
   "outputs":[
    {
     "name":"stdout",
     "text":[
      " 23\n",
      "1.0\n"
     ],
     "output_type":"stream"
    }
   ],
   "metadata":{
    "datalore":{
     "node_id":"GTeetdY2wXzOt4u3RPyF4Y",
     "type":"CODE",
     "hide_input_from_viewers":false,
     "hide_output_from_viewers":false,
     "report_properties":{
      
     }
    }
   }
  },
  {
   "cell_type":"markdown",
   "source":[
    "#### Завдання 5"
   ],
   "attachments":{
    
   },
   "metadata":{
    "datalore":{
     "node_id":"bwB2PdjZeSLcHn9pDksdHi",
     "type":"MD",
     "hide_input_from_viewers":false,
     "hide_output_from_viewers":false,
     "report_properties":{
      
     }
    }
   }
  },
  {
   "cell_type":"markdown",
   "source":[
    "Напишіть програму для обчислення коренів квадратного рівняння.\n",
    "\n",
    "Нагадую, що `n`-го степеня має `n` коренів. (Корені можуть бути комплексні)"
   ],
   "attachments":{
    
   },
   "metadata":{
    "datalore":{
     "node_id":"zkoo6kAmDzFfXs8ICrX1l9",
     "type":"MD",
     "hide_input_from_viewers":false,
     "hide_output_from_viewers":false,
     "report_properties":{
      
     }
    }
   }
  },
  {
   "cell_type":"code",
   "source":[
    "import cmath \n",
    "\n",
    "\n",
    "a = float(input(\" a: \"))\n",
    "b = float(input(\"b: \"))\n",
    "c = float(input(\"c: \"))\n",
    "\n",
    "D = b ** 2 - 4 * a * c\n",
    "if D < 0:\n",
    "  \n",
    "    x1 = (-b + cmath.sqrt(D)) \/ (2 * a)\n",
    "    x2 = (-b - cmath.sqrt(D)) \/ (2 * a)\n",
    "    print(\"Корені рівняння:\", x1, x2)\n",
    "elif D == 0:\n",
    "    \n",
    "    x = -b \/ (2 * a)\n",
    "    print(\"Рівняння має один корінь кратності 2:\", x)\n",
    "else:\n",
    "    \n",
    "    x1 = (-b + math.sqrt(D)) \/ (2 * a)\n",
    "    x2 = (-b - math.sqrt(D)) \/ (2 * a)\n",
    "    print(\"Корені рівняння:\", x1, x2)"
   ],
   "execution_count":24,
   "outputs":[
    {
     "name":"stdout",
     "text":[
      " a:  2\n",
      "b:  2\n",
      "c:  3\n",
      "Корені рівняння: (-0.5+1.118033988749895j) (-0.5-1.118033988749895j)\n"
     ],
     "output_type":"stream"
    }
   ],
   "metadata":{
    "datalore":{
     "node_id":"hIJU3b5F8uRJExYVAvopTZ",
     "type":"CODE",
     "hide_input_from_viewers":false,
     "hide_output_from_viewers":false,
     "report_properties":{
      
     }
    }
   }
  },
  {
   "cell_type":"markdown",
   "source":[
    "#### Завдання 6"
   ],
   "attachments":{
    
   },
   "metadata":{
    "datalore":{
     "node_id":"lMgWlmXjFKddUGzQySEBOQ",
     "type":"MD",
     "hide_input_from_viewers":false,
     "hide_output_from_viewers":false,
     "report_properties":{
      
     }
    }
   }
  },
  {
   "cell_type":"markdown",
   "source":[
    "Напишіть програму, що виводить речення: <i>\"Діаметр планети `Planet` дорівнює` Diament`\"<\/i>, \n",
    "\n",
    "де `Planet` та `Diament` вводить користувач"
   ],
   "attachments":{
    
   },
   "metadata":{
    "datalore":{
     "node_id":"bOy3naPDm40Fgtj9jSfqSi",
     "type":"MD",
     "hide_input_from_viewers":false,
     "hide_output_from_viewers":false,
     "report_properties":{
      
     }
    }
   }
  },
  {
   "cell_type":"code",
   "source":[
    "planet = input(\"Planet\")\n",
    "diameter = input(\"Diament\")\n",
    "sentence = planet +\" = \"+diameter\n",
    "print(sentence)"
   ],
   "execution_count":25,
   "outputs":[
    {
     "name":"stdout",
     "text":[
      "Planet Земля \n",
      "Diament 1234\n",
      "Земля  = 1234\n"
     ],
     "output_type":"stream"
    }
   ],
   "metadata":{
    "datalore":{
     "node_id":"6EJUpvh5VDSaWXImTElyxM",
     "type":"CODE",
     "hide_input_from_viewers":false,
     "hide_output_from_viewers":false,
     "report_properties":{
      
     }
    }
   }
  }
 ],
 "metadata":{
  "kernelspec":{
   "display_name":"Python",
   "language":"python",
   "name":"python"
  },
  "datalore":{
   "version":1,
   "computation_mode":"JUPYTER",
   "package_manager":"pip",
   "base_environment":"default",
   "packages":[
    
   ]
  }
 },
 "nbformat":4,
 "nbformat_minor":4
}